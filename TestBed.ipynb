{
 "cells": [
  {
   "cell_type": "code",
   "execution_count": 1,
   "metadata": {},
   "outputs": [
    {
     "data": {
      "text/html": [
       "<div>\n",
       "<style scoped>\n",
       "    .dataframe tbody tr th:only-of-type {\n",
       "        vertical-align: middle;\n",
       "    }\n",
       "\n",
       "    .dataframe tbody tr th {\n",
       "        vertical-align: top;\n",
       "    }\n",
       "\n",
       "    .dataframe thead th {\n",
       "        text-align: right;\n",
       "    }\n",
       "</style>\n",
       "<table border=\"1\" class=\"dataframe\">\n",
       "  <thead>\n",
       "    <tr style=\"text-align: right;\">\n",
       "      <th></th>\n",
       "      <th>Cluster</th>\n",
       "      <th>Value</th>\n",
       "      <th>Treated</th>\n",
       "    </tr>\n",
       "  </thead>\n",
       "  <tbody>\n",
       "    <tr>\n",
       "      <th>0</th>\n",
       "      <td>1</td>\n",
       "      <td>0.010663</td>\n",
       "      <td>1</td>\n",
       "    </tr>\n",
       "    <tr>\n",
       "      <th>1</th>\n",
       "      <td>1</td>\n",
       "      <td>0.004846</td>\n",
       "      <td>1</td>\n",
       "    </tr>\n",
       "    <tr>\n",
       "      <th>2</th>\n",
       "      <td>1</td>\n",
       "      <td>0.478826</td>\n",
       "      <td>0</td>\n",
       "    </tr>\n",
       "    <tr>\n",
       "      <th>3</th>\n",
       "      <td>1</td>\n",
       "      <td>0.639047</td>\n",
       "      <td>0</td>\n",
       "    </tr>\n",
       "    <tr>\n",
       "      <th>4</th>\n",
       "      <td>1</td>\n",
       "      <td>0.367627</td>\n",
       "      <td>0</td>\n",
       "    </tr>\n",
       "  </tbody>\n",
       "</table>\n",
       "</div>"
      ],
      "text/plain": [
       "   Cluster     Value  Treated\n",
       "0        1  0.010663        1\n",
       "1        1  0.004846        1\n",
       "2        1  0.478826        0\n",
       "3        1  0.639047        0\n",
       "4        1  0.367627        0"
      ]
     },
     "execution_count": 1,
     "metadata": {},
     "output_type": "execute_result"
    }
   ],
   "source": [
    "from StatExplore import CreateData as cd\n",
    "\n",
    "data = cd.Create_AB_Data(1, 0.01, 1, 1000, 10, 1.5)\n",
    "data.head()"
   ]
  },
  {
   "cell_type": "code",
   "execution_count": 5,
   "metadata": {},
   "outputs": [],
   "source": [
    "def Run_RCSE(data, cluster_col, val_col, treated_col):\n",
    "    import numpy as np\n",
    "    import statsmodels.api as sm\n",
    "    \n",
    "    X = data[val_col]\n",
    "    X = sm.add_constant(X)\n",
    "    Y = data[treated_col].tolist()\n",
    "    model = sm.OLS(Y, X).fit(method='pinv'). \\\n",
    "    get_robustcov_results('cluster', groups = data[cluster_col], \n",
    "    use_correction=True, df_correction=True)\n",
    "    print(model.summary())"
   ]
  },
  {
   "cell_type": "code",
   "execution_count": 6,
   "metadata": {},
   "outputs": [
    {
     "name": "stdout",
     "output_type": "stream",
     "text": [
      "                            OLS Regression Results                            \n",
      "==============================================================================\n",
      "Dep. Variable:                      y   R-squared:                       0.000\n",
      "Model:                            OLS   Adj. R-squared:                 -0.003\n",
      "Method:                 Least Squares   F-statistic:                   0.03488\n",
      "Date:                Tue, 06 Aug 2019   Prob (F-statistic):              0.861\n",
      "Time:                        00:06:39   Log-Likelihood:                -259.81\n",
      "No. Observations:                 358   AIC:                             523.6\n",
      "Df Residuals:                     356   BIC:                             531.4\n",
      "Df Model:                           1                                         \n",
      "Covariance Type:              cluster                                         \n",
      "==============================================================================\n",
      "                 coef    std err          t      P>|t|      [0.025      0.975]\n",
      "------------------------------------------------------------------------------\n",
      "const          0.5103      0.037     13.616      0.000       0.406       0.614\n",
      "Value         -0.0194      0.104     -0.187      0.861      -0.308       0.270\n",
      "==============================================================================\n",
      "Omnibus:                        0.000   Durbin-Watson:                   2.010\n",
      "Prob(Omnibus):                  1.000   Jarque-Bera (JB):               59.639\n",
      "Skew:                           0.000   Prob(JB):                     1.12e-13\n",
      "Kurtosis:                       1.000   Cond. No.                         4.70\n",
      "==============================================================================\n",
      "\n",
      "Warnings:\n",
      "[1] Standard Errors are robust tocluster correlation (cluster)\n"
     ]
    }
   ],
   "source": [
    "Run_RCSE(data, 'Cluster', 'Value', 'Treated')"
   ]
  }
 ],
 "metadata": {
  "kernelspec": {
   "display_name": "Python 3",
   "language": "python",
   "name": "python3"
  },
  "language_info": {
   "codemirror_mode": {
    "name": "ipython",
    "version": 3
   },
   "file_extension": ".py",
   "mimetype": "text/x-python",
   "name": "python",
   "nbconvert_exporter": "python",
   "pygments_lexer": "ipython3",
   "version": "3.7.1"
  }
 },
 "nbformat": 4,
 "nbformat_minor": 2
}
